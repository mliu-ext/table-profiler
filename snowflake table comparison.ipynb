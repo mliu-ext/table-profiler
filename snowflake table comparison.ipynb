{
 "cells": [
  {
   "cell_type": "code",
   "execution_count": 4,
   "metadata": {},
   "outputs": [],
   "source": [
    "from utils import *\n",
    "import argparse\n",
    "from snowflake_config import SNOW_CONFIG\n",
    "\n",
    "def snsql(query, con):\n",
    "    return pd.read_sql(query, con)"
   ]
  },
  {
   "cell_type": "code",
   "execution_count": 219,
   "metadata": {},
   "outputs": [
    {
     "name": "stdout",
     "output_type": "stream",
     "text": [
      "('ETL_WH', None, None)\n",
      "\n"
     ]
    }
   ],
   "source": [
    "# Gets the version\n",
    "ctx = snowflake.connector.connect(\n",
    "    user = 'mliu-ext@beachbody.com',\n",
    "    account = 'tbc-dev',\n",
    "    authenticator = 'externalbrowser',\n",
    "    role = 'DNA_DE',\n",
    "    warehouse = 'ETL_WH'\n",
    "    )\n",
    "cs = ctx.cursor()\n",
    "try:\n",
    "    cs.execute(\"select current_warehouse(), current_database(), current_schema();\")\n",
    "    one_row = cs.fetchone()\n",
    "    print(one_row)\n",
    "finally:\n",
    "    print()\n",
    "    cs.close()\n",
    "ctx.close()"
   ]
  },
  {
   "cell_type": "code",
   "execution_count": 5,
   "metadata": {},
   "outputs": [
    {
     "name": "stdout",
     "output_type": "stream",
     "text": [
      "  CURRENT_ROLE() CURRENT_WAREHOUSE() CURRENT_DATABASE() CURRENT_SCHEMA()\n",
      "0         DNA_DE              ETL_WH               None             None\n"
     ]
    }
   ],
   "source": [
    "# create snowflake connector\n",
    "con = sn_conn(SNOW_CONFIG)\n",
    "con.cursor().execute(\"USE WAREHOUSE ETL_WH\");\n",
    "\n",
    "# print out the current role and wharehouse\n",
    "query = \"\"\"select current_role(), current_warehouse(), current_database(), current_schema()\"\"\"\n",
    "print(snsql(query, con))"
   ]
  },
  {
   "cell_type": "code",
   "execution_count": 5,
   "metadata": {
    "scrolled": false
   },
   "outputs": [],
   "source": [
    "full_tbl_path = 'SNOWFLAKE_SAMPLE_DATA.TPCDS_SF100TCL.Call_Center'\n",
    "\n",
    "table = TableStats(full_tbl_path, con)"
   ]
  },
  {
   "cell_type": "code",
   "execution_count": 6,
   "metadata": {},
   "outputs": [
    {
     "data": {
      "text/plain": [
       "31"
      ]
     },
     "execution_count": 6,
     "metadata": {},
     "output_type": "execute_result"
    }
   ],
   "source": [
    "table.col_count\n"
   ]
  },
  {
   "cell_type": "code",
   "execution_count": null,
   "metadata": {},
   "outputs": [],
   "source": []
  },
  {
   "cell_type": "code",
   "execution_count": 7,
   "metadata": {},
   "outputs": [],
   "source": [
    "def main():\n",
    "    \n",
    "    table = 'SNOWFLAKE_SAMPLE_DATA.TPCDS_SF100TCL.Call_Center'\n",
    "    \n",
    "    prod = TableStats(table, con)\n",
    "    dev = TableStats(table, con)\n",
    "    \n",
    "    TC = TableComp()\n",
    "    res, df = TC.compare_all_cols(prod, dev)\n",
    "    \n",
    "    print(\"----------residual dataframe-------------\")\n",
    "    print(res)\n",
    "    \n",
    "    return res, df"
   ]
  },
  {
   "cell_type": "code",
   "execution_count": 8,
   "metadata": {},
   "outputs": [
    {
     "data": {
      "text/html": [
       "<div>\n",
       "<style scoped>\n",
       "    .dataframe tbody tr th:only-of-type {\n",
       "        vertical-align: middle;\n",
       "    }\n",
       "\n",
       "    .dataframe tbody tr th {\n",
       "        vertical-align: top;\n",
       "    }\n",
       "\n",
       "    .dataframe thead th {\n",
       "        text-align: right;\n",
       "    }\n",
       "</style>\n",
       "<table border=\"1\" class=\"dataframe\">\n",
       "  <thead>\n",
       "    <tr style=\"text-align: right;\">\n",
       "      <th></th>\n",
       "      <th>value</th>\n",
       "      <th>cnt2</th>\n",
       "      <th>_merge</th>\n",
       "    </tr>\n",
       "  </thead>\n",
       "  <tbody>\n",
       "    <tr>\n",
       "      <th>0</th>\n",
       "      <td>a</td>\n",
       "      <td>1</td>\n",
       "      <td>left_only</td>\n",
       "    </tr>\n",
       "    <tr>\n",
       "      <th>1</th>\n",
       "      <td>b</td>\n",
       "      <td>2</td>\n",
       "      <td>both</td>\n",
       "    </tr>\n",
       "    <tr>\n",
       "      <th>2</th>\n",
       "      <td>a</td>\n",
       "      <td>3</td>\n",
       "      <td>right_only</td>\n",
       "    </tr>\n",
       "  </tbody>\n",
       "</table>\n",
       "</div>"
      ],
      "text/plain": [
       "  value  cnt2      _merge\n",
       "0     a     1   left_only\n",
       "1     b     2        both\n",
       "2     a     3  right_only"
      ]
     },
     "execution_count": 8,
     "metadata": {},
     "output_type": "execute_result"
    }
   ],
   "source": [
    "# test\n",
    "dfa = pd.DataFrame([['a', 1], ['b',2]], columns=['value', 'cnt2'])\n",
    "dfb = pd.DataFrame([['a', 3], ['b',2]], columns=['value', 'cnt2'])\n",
    "TC = TableComp()\n",
    "\n",
    "res, df = TC.compare_group_count(dfa, dfb)\n",
    "\n",
    "df"
   ]
  },
  {
   "cell_type": "code",
   "execution_count": 9,
   "metadata": {
    "scrolled": false
   },
   "outputs": [
    {
     "name": "stdout",
     "output_type": "stream",
     "text": [
      "\n",
      "Results will be saved in /Users/mliu-ext/downloads/2021-04-10_0244_SNOWFLAKE_SAMPLE_DATA.TPCDS_SF100TCL.Call_Center_vs_SNOWFLAKE_SAMPLE_DATA.TPCDS_SF100TCL.Call_Center.xlsx\n",
      "\n",
      "Comparing two tables coloumn by column \n",
      "\n"
     ]
    },
    {
     "data": {
      "application/vnd.jupyter.widget-view+json": {
       "model_id": "b99fe2cc81b34e4e8acf13cecf25c480",
       "version_major": 2,
       "version_minor": 0
      },
      "text/plain": [
       "HBox(children=(HTML(value=''), FloatProgress(value=0.0, max=31.0), HTML(value='')))"
      ]
     },
     "metadata": {},
     "output_type": "display_data"
    },
    {
     "name": "stdout",
     "output_type": "stream",
     "text": [
      "comparing column: CC_CALL_CENTER_SK\n",
      "comparing column: CC_CALL_CENTER_ID\n",
      "comparing column: CC_REC_START_DATE\n",
      "comparing column: CC_REC_END_DATE\n",
      "comparing column: CC_CLOSED_DATE_SK\n",
      "comparing column: CC_OPEN_DATE_SK\n",
      "comparing column: CC_NAME\n",
      "comparing column: CC_CLASS\n",
      "comparing column: CC_EMPLOYEES\n",
      "comparing column: CC_SQ_FT\n",
      "comparing column: CC_HOURS\n",
      "comparing column: CC_MANAGER\n",
      "comparing column: CC_MKT_ID\n",
      "comparing column: CC_MKT_CLASS\n",
      "comparing column: CC_MKT_DESC\n",
      "comparing column: CC_MARKET_MANAGER\n",
      "comparing column: CC_DIVISION\n",
      "comparing column: CC_DIVISION_NAME\n",
      "comparing column: CC_COMPANY\n",
      "comparing column: CC_COMPANY_NAME\n",
      "comparing column: CC_STREET_NUMBER\n",
      "comparing column: CC_STREET_NAME\n",
      "comparing column: CC_STREET_TYPE\n",
      "comparing column: CC_SUITE_NUMBER\n",
      "comparing column: CC_CITY\n",
      "comparing column: CC_COUNTY\n",
      "comparing column: CC_STATE\n",
      "comparing column: CC_ZIP\n",
      "comparing column: CC_COUNTRY\n",
      "comparing column: CC_GMT_OFFSET\n",
      "comparing column: CC_TAX_PERCENTAGE\n",
      "\n",
      "----------residual dataframe-------------\n",
      "       test_type         column_names results  uniques_left  uniques_right  \\\n",
      "0   GroupByCount  [cc_call_center_sk]  PASSED            60             60   \n",
      "1   GroupByCount  [cc_call_center_id]  PASSED            30             30   \n",
      "2   GroupByCount  [cc_rec_start_date]  PASSED             4              4   \n",
      "3   GroupByCount    [cc_rec_end_date]  PASSED             4              4   \n",
      "4   GroupByCount  [cc_closed_date_sk]  PASSED             1              1   \n",
      "5   GroupByCount    [cc_open_date_sk]  PASSED            30             30   \n",
      "6   GroupByCount            [cc_name]  PASSED            30             30   \n",
      "7   GroupByCount           [cc_class]  PASSED             3              3   \n",
      "8   GroupByCount       [cc_employees]  PASSED            43             43   \n",
      "9   GroupByCount           [cc_sq_ft]  PASSED            47             47   \n",
      "10  GroupByCount           [cc_hours]  PASSED             3              3   \n",
      "11  GroupByCount         [cc_manager]  PASSED            42             42   \n",
      "12  GroupByCount          [cc_mkt_id]  PASSED             6              6   \n",
      "13  GroupByCount       [cc_mkt_class]  PASSED            52             52   \n",
      "14  GroupByCount        [cc_mkt_desc]  PASSED            48             48   \n",
      "15  GroupByCount  [cc_market_manager]  PASSED            48             48   \n",
      "16  GroupByCount        [cc_division]  PASSED             6              6   \n",
      "17  GroupByCount   [cc_division_name]  PASSED             6              6   \n",
      "18  GroupByCount         [cc_company]  PASSED             6              6   \n",
      "19  GroupByCount    [cc_company_name]  PASSED             6              6   \n",
      "20  GroupByCount   [cc_street_number]  PASSED            30             30   \n",
      "21  GroupByCount     [cc_street_name]  PASSED            29             29   \n",
      "22  GroupByCount     [cc_street_type]  PASSED            14             14   \n",
      "23  GroupByCount    [cc_suite_number]  PASSED            26             26   \n",
      "24  GroupByCount            [cc_city]  PASSED            25             25   \n",
      "25  GroupByCount          [cc_county]  PASSED            25             25   \n",
      "26  GroupByCount           [cc_state]  PASSED            19             19   \n",
      "27  GroupByCount             [cc_zip]  PASSED            30             30   \n",
      "28  GroupByCount         [cc_country]  PASSED             1              1   \n",
      "29  GroupByCount      [cc_gmt_offset]  PASSED             4              4   \n",
      "30  GroupByCount  [cc_tax_percentage]  PASSED            13             13   \n",
      "\n",
      "   shared diff_pct threshold  \n",
      "0      60      NaN       NaN  \n",
      "1      30      NaN       NaN  \n",
      "2       4      NaN       NaN  \n",
      "3       4      NaN       NaN  \n",
      "4       1      NaN       NaN  \n",
      "5      30      NaN       NaN  \n",
      "6      30      NaN       NaN  \n",
      "7       3      NaN       NaN  \n",
      "8      43      NaN       NaN  \n",
      "9      47      NaN       NaN  \n",
      "10      3      NaN       NaN  \n",
      "11     42      NaN       NaN  \n",
      "12      6      NaN       NaN  \n",
      "13     52      NaN       NaN  \n",
      "14     48      NaN       NaN  \n",
      "15     48      NaN       NaN  \n",
      "16      6      NaN       NaN  \n",
      "17      6      NaN       NaN  \n",
      "18      6      NaN       NaN  \n",
      "19      6      NaN       NaN  \n",
      "20     30      NaN       NaN  \n",
      "21     29      NaN       NaN  \n",
      "22     14      NaN       NaN  \n",
      "23     26      NaN       NaN  \n",
      "24     25      NaN       NaN  \n",
      "25     25      NaN       NaN  \n",
      "26     19      NaN       NaN  \n",
      "27     30      NaN       NaN  \n",
      "28      1      NaN       NaN  \n",
      "29      4      NaN       NaN  \n",
      "30     13      NaN       NaN  \n"
     ]
    }
   ],
   "source": [
    "res, df = main()"
   ]
  },
  {
   "cell_type": "code",
   "execution_count": 6,
   "metadata": {},
   "outputs": [
    {
     "data": {
      "text/html": [
       "<div>\n",
       "<style scoped>\n",
       "    .dataframe tbody tr th:only-of-type {\n",
       "        vertical-align: middle;\n",
       "    }\n",
       "\n",
       "    .dataframe tbody tr th {\n",
       "        vertical-align: top;\n",
       "    }\n",
       "\n",
       "    .dataframe thead th {\n",
       "        text-align: right;\n",
       "    }\n",
       "</style>\n",
       "<table border=\"1\" class=\"dataframe\">\n",
       "  <thead>\n",
       "    <tr style=\"text-align: right;\">\n",
       "      <th></th>\n",
       "      <th>test_type</th>\n",
       "      <th>column_names</th>\n",
       "      <th>results</th>\n",
       "      <th>uniques_left</th>\n",
       "      <th>uniques_right</th>\n",
       "      <th>shared</th>\n",
       "      <th>diff_pct</th>\n",
       "      <th>threshold</th>\n",
       "    </tr>\n",
       "  </thead>\n",
       "  <tbody>\n",
       "    <tr>\n",
       "      <th>0</th>\n",
       "      <td>numberOfRows</td>\n",
       "      <td>NaN</td>\n",
       "      <td>PASSED</td>\n",
       "      <td>2476</td>\n",
       "      <td>2476</td>\n",
       "      <td>NaN</td>\n",
       "      <td>0</td>\n",
       "      <td>0</td>\n",
       "    </tr>\n",
       "  </tbody>\n",
       "</table>\n",
       "</div>"
      ],
      "text/plain": [
       "      test_type column_names results uniques_left uniques_right shared  \\\n",
       "0  numberOfRows          NaN  PASSED         2476          2476    NaN   \n",
       "\n",
       "  diff_pct threshold  \n",
       "0        0         0  "
      ]
     },
     "execution_count": 6,
     "metadata": {},
     "output_type": "execute_result"
    }
   ],
   "source": [
    "table = 'SNOWFLAKE_SAMPLE_DATA.TPCDS_SF100TCL.Call_Center_Test'\n",
    "\n",
    "left = 'RAW.JING_VIPER.RAW_VIPER_20201110'\n",
    "right = 'RAW.JING_VIPER.VIPER_20201110'\n",
    "\n",
    "tbl_a = TableStats(left, con)\n",
    "tbl_b = TableStats(right, con)\n",
    "\n",
    "TC = TableComp()\n",
    "df = TC.compare_count(tbl_a.row_count, tbl_b.row_count, 0)\n",
    "df"
   ]
  },
  {
   "cell_type": "code",
   "execution_count": 7,
   "metadata": {
    "scrolled": false
   },
   "outputs": [
    {
     "name": "stderr",
     "output_type": "stream",
     "text": [
      "ERROR:root:Internal Python error in the inspect module.\n",
      "Below is the traceback from this internal error.\n",
      "\n"
     ]
    },
    {
     "name": "stdout",
     "output_type": "stream",
     "text": [
      "(<class 'pandas.io.sql.DatabaseError'>, DatabaseError(\"Execution failed on sql 'desc table SNOWFLAKE_SAMPLE_DATA.TPCDS_SF100TCL.Call_Center_Test': 002003 (42S02): SQL compilation error:\\nTable 'SNOWFLAKE_SAMPLE_DATA.TPCDS_SF100TCL.CALL_CENTER_TEST' does not exist or not authorized.\"), <traceback object at 0x7f8b6c4841c0>)\n",
      "Traceback (most recent call last):\n",
      "  File \"/usr/local/anaconda3/envs/py39/lib/python3.8/site-packages/pandas/io/sql.py\", line 1681, in execute\n",
      "    cur.execute(*args, **kwargs)\n",
      "  File \"/usr/local/anaconda3/envs/py39/lib/python3.8/site-packages/snowflake/connector/cursor.py\", line 626, in execute\n",
      "    Error.errorhandler_wrapper(self.connection, self,\n",
      "  File \"/usr/local/anaconda3/envs/py39/lib/python3.8/site-packages/snowflake/connector/errors.py\", line 236, in errorhandler_wrapper\n",
      "    cursor.errorhandler(connection, cursor, error_class, error_value)\n",
      "  File \"/usr/local/anaconda3/envs/py39/lib/python3.8/site-packages/snowflake/connector/errors.py\", line 169, in default_errorhandler\n",
      "    raise error_class(\n",
      "snowflake.connector.errors.ProgrammingError: 002003 (42S02): SQL compilation error:\n",
      "Table 'SNOWFLAKE_SAMPLE_DATA.TPCDS_SF100TCL.CALL_CENTER_TEST' does not exist or not authorized.\n",
      "\n",
      "The above exception was the direct cause of the following exception:\n",
      "\n",
      "Traceback (most recent call last):\n",
      "  File \"/Users/mliu-ext/github-mliu-ext/tableprofiler/utils.py\", line 87, in check_table_exist\n",
      "    self.snsql(\"desc table {}\".format(self.table))\n",
      "  File \"/Users/mliu-ext/github-mliu-ext/tableprofiler/utils.py\", line 93, in snsql\n",
      "    df = pd.read_sql(query, self.con)\n",
      "  File \"/usr/local/anaconda3/envs/py39/lib/python3.8/site-packages/pandas/io/sql.py\", line 483, in read_sql\n",
      "    return pandas_sql.read_query(\n",
      "  File \"/usr/local/anaconda3/envs/py39/lib/python3.8/site-packages/pandas/io/sql.py\", line 1727, in read_query\n",
      "    cursor = self.execute(*args)\n",
      "  File \"/usr/local/anaconda3/envs/py39/lib/python3.8/site-packages/pandas/io/sql.py\", line 1693, in execute\n",
      "    raise ex from exc\n",
      "pandas.io.sql.DatabaseError: Execution failed on sql 'desc table SNOWFLAKE_SAMPLE_DATA.TPCDS_SF100TCL.Call_Center_Test': 002003 (42S02): SQL compilation error:\n",
      "Table 'SNOWFLAKE_SAMPLE_DATA.TPCDS_SF100TCL.CALL_CENTER_TEST' does not exist or not authorized.\n",
      "\n",
      "During handling of the above exception, another exception occurred:\n",
      "\n",
      "Traceback (most recent call last):\n",
      "  File \"/usr/local/anaconda3/envs/py39/lib/python3.8/site-packages/IPython/core/interactiveshell.py\", line 3418, in run_code\n",
      "    exec(code_obj, self.user_global_ns, self.user_ns)\n",
      "  File \"<ipython-input-7-253073828462>\", line 1, in <module>\n",
      "    TableStats(table, con)\n",
      "  File \"/Users/mliu-ext/github-mliu-ext/tableprofiler/utils.py\", line 59, in __init__\n",
      "    self.check_table_exist()\n",
      "  File \"/Users/mliu-ext/github-mliu-ext/tableprofiler/utils.py\", line 90, in check_table_exist\n",
      "    sys.exit(\"could NOT describe table {}. Check if table name is correct and in the format: db_name.schema_name.table_name\".format(self.table))\n",
      "SystemExit: could NOT describe table SNOWFLAKE_SAMPLE_DATA.TPCDS_SF100TCL.Call_Center_Test. Check if table name is correct and in the format: db_name.schema_name.table_name\n",
      "\n",
      "During handling of the above exception, another exception occurred:\n",
      "\n",
      "Traceback (most recent call last):\n",
      "  File \"/usr/local/anaconda3/envs/py39/lib/python3.8/site-packages/IPython/core/ultratb.py\", line 1170, in get_records\n",
      "    return _fixed_getinnerframes(etb, number_of_lines_of_context, tb_offset)\n",
      "  File \"/usr/local/anaconda3/envs/py39/lib/python3.8/site-packages/IPython/core/ultratb.py\", line 316, in wrapped\n",
      "    return f(*args, **kwargs)\n",
      "  File \"/usr/local/anaconda3/envs/py39/lib/python3.8/site-packages/IPython/core/ultratb.py\", line 350, in _fixed_getinnerframes\n",
      "    records = fix_frame_records_filenames(inspect.getinnerframes(etb, context))\n",
      "  File \"/usr/local/anaconda3/envs/py39/lib/python3.8/inspect.py\", line 1503, in getinnerframes\n",
      "    frameinfo = (tb.tb_frame,) + getframeinfo(tb, context)\n",
      "AttributeError: 'tuple' object has no attribute 'tb_frame'\n"
     ]
    },
    {
     "ename": "TypeError",
     "evalue": "object of type 'NoneType' has no len()",
     "output_type": "error",
     "traceback": [
      "\u001b[0;31m---------------------------------------------------------------------------\u001b[0m",
      "\u001b[0;31mProgrammingError\u001b[0m                          Traceback (most recent call last)",
      "\u001b[0;32m/usr/local/anaconda3/envs/py39/lib/python3.8/site-packages/pandas/io/sql.py\u001b[0m in \u001b[0;36mexecute\u001b[0;34m(self, *args, **kwargs)\u001b[0m\n\u001b[1;32m   1680\u001b[0m         \u001b[0;32mtry\u001b[0m\u001b[0;34m:\u001b[0m\u001b[0;34m\u001b[0m\u001b[0;34m\u001b[0m\u001b[0m\n\u001b[0;32m-> 1681\u001b[0;31m             \u001b[0mcur\u001b[0m\u001b[0;34m.\u001b[0m\u001b[0mexecute\u001b[0m\u001b[0;34m(\u001b[0m\u001b[0;34m*\u001b[0m\u001b[0margs\u001b[0m\u001b[0;34m,\u001b[0m \u001b[0;34m**\u001b[0m\u001b[0mkwargs\u001b[0m\u001b[0;34m)\u001b[0m\u001b[0;34m\u001b[0m\u001b[0;34m\u001b[0m\u001b[0m\n\u001b[0m\u001b[1;32m   1682\u001b[0m             \u001b[0;32mreturn\u001b[0m \u001b[0mcur\u001b[0m\u001b[0;34m\u001b[0m\u001b[0;34m\u001b[0m\u001b[0m\n",
      "\u001b[0;32m/usr/local/anaconda3/envs/py39/lib/python3.8/site-packages/snowflake/connector/cursor.py\u001b[0m in \u001b[0;36mexecute\u001b[0;34m(self, command, params, _bind_stage, timeout, _exec_async, _do_reset, _put_callback, _put_azure_callback, _put_callback_output_stream, _get_callback, _get_azure_callback, _get_callback_output_stream, _show_progress_bar, _statement_params, _is_internal, _no_results, _use_ijson, _is_put_get, _raise_put_get_error, _force_put_overwrite, file_stream)\u001b[0m\n\u001b[1;32m    625\u001b[0m             }\n\u001b[0;32m--> 626\u001b[0;31m             Error.errorhandler_wrapper(self.connection, self,\n\u001b[0m\u001b[1;32m    627\u001b[0m                                        \u001b[0mProgrammingError\u001b[0m\u001b[0;34m,\u001b[0m\u001b[0;34m\u001b[0m\u001b[0;34m\u001b[0m\u001b[0m\n",
      "\u001b[0;32m/usr/local/anaconda3/envs/py39/lib/python3.8/site-packages/snowflake/connector/errors.py\u001b[0m in \u001b[0;36merrorhandler_wrapper\u001b[0;34m(connection, cursor, error_class, error_value)\u001b[0m\n\u001b[1;32m    235\u001b[0m             \u001b[0mcursor\u001b[0m\u001b[0;34m.\u001b[0m\u001b[0mmessages\u001b[0m\u001b[0;34m.\u001b[0m\u001b[0mappend\u001b[0m\u001b[0;34m(\u001b[0m\u001b[0;34m(\u001b[0m\u001b[0merror_class\u001b[0m\u001b[0;34m,\u001b[0m \u001b[0merror_value\u001b[0m\u001b[0;34m)\u001b[0m\u001b[0;34m)\u001b[0m\u001b[0;34m\u001b[0m\u001b[0;34m\u001b[0m\u001b[0m\n\u001b[0;32m--> 236\u001b[0;31m             \u001b[0mcursor\u001b[0m\u001b[0;34m.\u001b[0m\u001b[0merrorhandler\u001b[0m\u001b[0;34m(\u001b[0m\u001b[0mconnection\u001b[0m\u001b[0;34m,\u001b[0m \u001b[0mcursor\u001b[0m\u001b[0;34m,\u001b[0m \u001b[0merror_class\u001b[0m\u001b[0;34m,\u001b[0m \u001b[0merror_value\u001b[0m\u001b[0;34m)\u001b[0m\u001b[0;34m\u001b[0m\u001b[0;34m\u001b[0m\u001b[0m\n\u001b[0m\u001b[1;32m    237\u001b[0m             \u001b[0;32mreturn\u001b[0m\u001b[0;34m\u001b[0m\u001b[0;34m\u001b[0m\u001b[0m\n",
      "\u001b[0;32m/usr/local/anaconda3/envs/py39/lib/python3.8/site-packages/snowflake/connector/errors.py\u001b[0m in \u001b[0;36mdefault_errorhandler\u001b[0;34m(connection, cursor, error_class, error_value)\u001b[0m\n\u001b[1;32m    168\u001b[0m         \"\"\"\n\u001b[0;32m--> 169\u001b[0;31m         raise error_class(\n\u001b[0m\u001b[1;32m    170\u001b[0m             \u001b[0mmsg\u001b[0m\u001b[0;34m=\u001b[0m\u001b[0merror_value\u001b[0m\u001b[0;34m.\u001b[0m\u001b[0mget\u001b[0m\u001b[0;34m(\u001b[0m\u001b[0;34m'msg'\u001b[0m\u001b[0;34m)\u001b[0m\u001b[0;34m,\u001b[0m\u001b[0;34m\u001b[0m\u001b[0;34m\u001b[0m\u001b[0m\n",
      "\u001b[0;31mProgrammingError\u001b[0m: 002003 (42S02): SQL compilation error:\nTable 'SNOWFLAKE_SAMPLE_DATA.TPCDS_SF100TCL.CALL_CENTER_TEST' does not exist or not authorized.",
      "\nThe above exception was the direct cause of the following exception:\n",
      "\u001b[0;31mDatabaseError\u001b[0m                             Traceback (most recent call last)",
      "\u001b[0;32m~/github-mliu-ext/tableprofiler/utils.py\u001b[0m in \u001b[0;36mcheck_table_exist\u001b[0;34m(self)\u001b[0m\n\u001b[1;32m     86\u001b[0m         \u001b[0;32mtry\u001b[0m\u001b[0;34m:\u001b[0m\u001b[0;34m\u001b[0m\u001b[0;34m\u001b[0m\u001b[0m\n\u001b[0;32m---> 87\u001b[0;31m             \u001b[0mself\u001b[0m\u001b[0;34m.\u001b[0m\u001b[0msnsql\u001b[0m\u001b[0;34m(\u001b[0m\u001b[0;34m\"desc table {}\"\u001b[0m\u001b[0;34m.\u001b[0m\u001b[0mformat\u001b[0m\u001b[0;34m(\u001b[0m\u001b[0mself\u001b[0m\u001b[0;34m.\u001b[0m\u001b[0mtable\u001b[0m\u001b[0;34m)\u001b[0m\u001b[0;34m)\u001b[0m\u001b[0;34m\u001b[0m\u001b[0;34m\u001b[0m\u001b[0m\n\u001b[0m\u001b[1;32m     88\u001b[0m         \u001b[0;32mexcept\u001b[0m\u001b[0;34m:\u001b[0m\u001b[0;34m\u001b[0m\u001b[0;34m\u001b[0m\u001b[0m\n",
      "\u001b[0;32m~/github-mliu-ext/tableprofiler/utils.py\u001b[0m in \u001b[0;36msnsql\u001b[0;34m(self, query)\u001b[0m\n\u001b[1;32m     92\u001b[0m     \u001b[0;32mdef\u001b[0m \u001b[0msnsql\u001b[0m\u001b[0;34m(\u001b[0m\u001b[0mself\u001b[0m\u001b[0;34m,\u001b[0m \u001b[0mquery\u001b[0m\u001b[0;34m)\u001b[0m\u001b[0;34m:\u001b[0m\u001b[0;34m\u001b[0m\u001b[0;34m\u001b[0m\u001b[0m\n\u001b[0;32m---> 93\u001b[0;31m         \u001b[0mdf\u001b[0m \u001b[0;34m=\u001b[0m \u001b[0mpd\u001b[0m\u001b[0;34m.\u001b[0m\u001b[0mread_sql\u001b[0m\u001b[0;34m(\u001b[0m\u001b[0mquery\u001b[0m\u001b[0;34m,\u001b[0m \u001b[0mself\u001b[0m\u001b[0;34m.\u001b[0m\u001b[0mcon\u001b[0m\u001b[0;34m)\u001b[0m\u001b[0;34m\u001b[0m\u001b[0;34m\u001b[0m\u001b[0m\n\u001b[0m\u001b[1;32m     94\u001b[0m         \u001b[0mdf\u001b[0m\u001b[0;34m.\u001b[0m\u001b[0mcolumns\u001b[0m \u001b[0;34m=\u001b[0m \u001b[0;34m[\u001b[0m\u001b[0ms\u001b[0m\u001b[0;34m.\u001b[0m\u001b[0mlower\u001b[0m\u001b[0;34m(\u001b[0m\u001b[0;34m)\u001b[0m \u001b[0;32mfor\u001b[0m \u001b[0ms\u001b[0m \u001b[0;32min\u001b[0m \u001b[0mdf\u001b[0m\u001b[0;34m.\u001b[0m\u001b[0mcolumns\u001b[0m\u001b[0;34m]\u001b[0m\u001b[0;34m\u001b[0m\u001b[0;34m\u001b[0m\u001b[0m\n",
      "\u001b[0;32m/usr/local/anaconda3/envs/py39/lib/python3.8/site-packages/pandas/io/sql.py\u001b[0m in \u001b[0;36mread_sql\u001b[0;34m(sql, con, index_col, coerce_float, params, parse_dates, columns, chunksize)\u001b[0m\n\u001b[1;32m    482\u001b[0m     \u001b[0;32mif\u001b[0m \u001b[0misinstance\u001b[0m\u001b[0;34m(\u001b[0m\u001b[0mpandas_sql\u001b[0m\u001b[0;34m,\u001b[0m \u001b[0mSQLiteDatabase\u001b[0m\u001b[0;34m)\u001b[0m\u001b[0;34m:\u001b[0m\u001b[0;34m\u001b[0m\u001b[0;34m\u001b[0m\u001b[0m\n\u001b[0;32m--> 483\u001b[0;31m         return pandas_sql.read_query(\n\u001b[0m\u001b[1;32m    484\u001b[0m             \u001b[0msql\u001b[0m\u001b[0;34m,\u001b[0m\u001b[0;34m\u001b[0m\u001b[0;34m\u001b[0m\u001b[0m\n",
      "\u001b[0;32m/usr/local/anaconda3/envs/py39/lib/python3.8/site-packages/pandas/io/sql.py\u001b[0m in \u001b[0;36mread_query\u001b[0;34m(self, sql, index_col, coerce_float, params, parse_dates, chunksize)\u001b[0m\n\u001b[1;32m   1726\u001b[0m         \u001b[0margs\u001b[0m \u001b[0;34m=\u001b[0m \u001b[0m_convert_params\u001b[0m\u001b[0;34m(\u001b[0m\u001b[0msql\u001b[0m\u001b[0;34m,\u001b[0m \u001b[0mparams\u001b[0m\u001b[0;34m)\u001b[0m\u001b[0;34m\u001b[0m\u001b[0;34m\u001b[0m\u001b[0m\n\u001b[0;32m-> 1727\u001b[0;31m         \u001b[0mcursor\u001b[0m \u001b[0;34m=\u001b[0m \u001b[0mself\u001b[0m\u001b[0;34m.\u001b[0m\u001b[0mexecute\u001b[0m\u001b[0;34m(\u001b[0m\u001b[0;34m*\u001b[0m\u001b[0margs\u001b[0m\u001b[0;34m)\u001b[0m\u001b[0;34m\u001b[0m\u001b[0;34m\u001b[0m\u001b[0m\n\u001b[0m\u001b[1;32m   1728\u001b[0m         \u001b[0mcolumns\u001b[0m \u001b[0;34m=\u001b[0m \u001b[0;34m[\u001b[0m\u001b[0mcol_desc\u001b[0m\u001b[0;34m[\u001b[0m\u001b[0;36m0\u001b[0m\u001b[0;34m]\u001b[0m \u001b[0;32mfor\u001b[0m \u001b[0mcol_desc\u001b[0m \u001b[0;32min\u001b[0m \u001b[0mcursor\u001b[0m\u001b[0;34m.\u001b[0m\u001b[0mdescription\u001b[0m\u001b[0;34m]\u001b[0m\u001b[0;34m\u001b[0m\u001b[0;34m\u001b[0m\u001b[0m\n",
      "\u001b[0;32m/usr/local/anaconda3/envs/py39/lib/python3.8/site-packages/pandas/io/sql.py\u001b[0m in \u001b[0;36mexecute\u001b[0;34m(self, *args, **kwargs)\u001b[0m\n\u001b[1;32m   1692\u001b[0m             \u001b[0mex\u001b[0m \u001b[0;34m=\u001b[0m \u001b[0mDatabaseError\u001b[0m\u001b[0;34m(\u001b[0m\u001b[0;34mf\"Execution failed on sql '{args[0]}': {exc}\"\u001b[0m\u001b[0;34m)\u001b[0m\u001b[0;34m\u001b[0m\u001b[0;34m\u001b[0m\u001b[0m\n\u001b[0;32m-> 1693\u001b[0;31m             \u001b[0;32mraise\u001b[0m \u001b[0mex\u001b[0m \u001b[0;32mfrom\u001b[0m \u001b[0mexc\u001b[0m\u001b[0;34m\u001b[0m\u001b[0;34m\u001b[0m\u001b[0m\n\u001b[0m\u001b[1;32m   1694\u001b[0m \u001b[0;34m\u001b[0m\u001b[0m\n",
      "\u001b[0;31mDatabaseError\u001b[0m: Execution failed on sql 'desc table SNOWFLAKE_SAMPLE_DATA.TPCDS_SF100TCL.Call_Center_Test': 002003 (42S02): SQL compilation error:\nTable 'SNOWFLAKE_SAMPLE_DATA.TPCDS_SF100TCL.CALL_CENTER_TEST' does not exist or not authorized.",
      "\nDuring handling of the above exception, another exception occurred:\n",
      "\u001b[0;31mSystemExit\u001b[0m                                Traceback (most recent call last)",
      "    \u001b[0;31m[... skipping hidden 1 frame]\u001b[0m\n",
      "\u001b[0;32m<ipython-input-7-253073828462>\u001b[0m in \u001b[0;36m<module>\u001b[0;34m\u001b[0m\n\u001b[0;32m----> 1\u001b[0;31m \u001b[0mTableStats\u001b[0m\u001b[0;34m(\u001b[0m\u001b[0mtable\u001b[0m\u001b[0;34m,\u001b[0m \u001b[0mcon\u001b[0m\u001b[0;34m)\u001b[0m\u001b[0;34m\u001b[0m\u001b[0;34m\u001b[0m\u001b[0m\n\u001b[0m",
      "\u001b[0;32m~/github-mliu-ext/tableprofiler/utils.py\u001b[0m in \u001b[0;36m__init__\u001b[0;34m(self, table, con, engine, where_condition)\u001b[0m\n\u001b[1;32m     58\u001b[0m         \u001b[0mself\u001b[0m\u001b[0;34m.\u001b[0m\u001b[0mengine\u001b[0m \u001b[0;34m=\u001b[0m \u001b[0mengine\u001b[0m\u001b[0;34m\u001b[0m\u001b[0;34m\u001b[0m\u001b[0m\n\u001b[0;32m---> 59\u001b[0;31m         \u001b[0mself\u001b[0m\u001b[0;34m.\u001b[0m\u001b[0mcheck_table_exist\u001b[0m\u001b[0;34m(\u001b[0m\u001b[0;34m)\u001b[0m\u001b[0;34m\u001b[0m\u001b[0;34m\u001b[0m\u001b[0m\n\u001b[0m\u001b[1;32m     60\u001b[0m         \u001b[0mself\u001b[0m\u001b[0;34m.\u001b[0m\u001b[0mwhere_condition\u001b[0m \u001b[0;34m=\u001b[0m \u001b[0mwhere_condition\u001b[0m\u001b[0;34m\u001b[0m\u001b[0;34m\u001b[0m\u001b[0m\n",
      "\u001b[0;32m~/github-mliu-ext/tableprofiler/utils.py\u001b[0m in \u001b[0;36mcheck_table_exist\u001b[0;34m(self)\u001b[0m\n\u001b[1;32m     89\u001b[0m             \u001b[0mprint\u001b[0m\u001b[0;34m(\u001b[0m\u001b[0msys\u001b[0m\u001b[0;34m.\u001b[0m\u001b[0mexc_info\u001b[0m\u001b[0;34m(\u001b[0m\u001b[0;34m)\u001b[0m\u001b[0;34m)\u001b[0m\u001b[0;34m\u001b[0m\u001b[0;34m\u001b[0m\u001b[0m\n\u001b[0;32m---> 90\u001b[0;31m             \u001b[0msys\u001b[0m\u001b[0;34m.\u001b[0m\u001b[0mexit\u001b[0m\u001b[0;34m(\u001b[0m\u001b[0;34m\"could NOT describe table {}. Check if table name is correct and in the format: db_name.schema_name.table_name\"\u001b[0m\u001b[0;34m.\u001b[0m\u001b[0mformat\u001b[0m\u001b[0;34m(\u001b[0m\u001b[0mself\u001b[0m\u001b[0;34m.\u001b[0m\u001b[0mtable\u001b[0m\u001b[0;34m)\u001b[0m\u001b[0;34m)\u001b[0m\u001b[0;34m\u001b[0m\u001b[0;34m\u001b[0m\u001b[0m\n\u001b[0m\u001b[1;32m     91\u001b[0m \u001b[0;34m\u001b[0m\u001b[0m\n",
      "\u001b[0;31mSystemExit\u001b[0m: could NOT describe table SNOWFLAKE_SAMPLE_DATA.TPCDS_SF100TCL.Call_Center_Test. Check if table name is correct and in the format: db_name.schema_name.table_name",
      "\nDuring handling of the above exception, another exception occurred:\n",
      "\u001b[0;31mTypeError\u001b[0m                                 Traceback (most recent call last)",
      "    \u001b[0;31m[... skipping hidden 1 frame]\u001b[0m\n",
      "\u001b[0;32m/usr/local/anaconda3/envs/py39/lib/python3.8/site-packages/IPython/core/interactiveshell.py\u001b[0m in \u001b[0;36mshowtraceback\u001b[0;34m(self, exc_tuple, filename, tb_offset, exception_only, running_compiled_code)\u001b[0m\n\u001b[1;32m   2036\u001b[0m                     stb = ['An exception has occurred, use %tb to see '\n\u001b[1;32m   2037\u001b[0m                            'the full traceback.\\n']\n\u001b[0;32m-> 2038\u001b[0;31m                     stb.extend(self.InteractiveTB.get_exception_only(etype,\n\u001b[0m\u001b[1;32m   2039\u001b[0m                                                                      value))\n\u001b[1;32m   2040\u001b[0m                 \u001b[0;32melse\u001b[0m\u001b[0;34m:\u001b[0m\u001b[0;34m\u001b[0m\u001b[0;34m\u001b[0m\u001b[0m\n",
      "\u001b[0;32m/usr/local/anaconda3/envs/py39/lib/python3.8/site-packages/IPython/core/ultratb.py\u001b[0m in \u001b[0;36mget_exception_only\u001b[0;34m(self, etype, value)\u001b[0m\n\u001b[1;32m    821\u001b[0m         \u001b[0mvalue\u001b[0m \u001b[0;34m:\u001b[0m \u001b[0mexception\u001b[0m \u001b[0mvalue\u001b[0m\u001b[0;34m\u001b[0m\u001b[0;34m\u001b[0m\u001b[0m\n\u001b[1;32m    822\u001b[0m         \"\"\"\n\u001b[0;32m--> 823\u001b[0;31m         \u001b[0;32mreturn\u001b[0m \u001b[0mListTB\u001b[0m\u001b[0;34m.\u001b[0m\u001b[0mstructured_traceback\u001b[0m\u001b[0;34m(\u001b[0m\u001b[0mself\u001b[0m\u001b[0;34m,\u001b[0m \u001b[0metype\u001b[0m\u001b[0;34m,\u001b[0m \u001b[0mvalue\u001b[0m\u001b[0;34m)\u001b[0m\u001b[0;34m\u001b[0m\u001b[0;34m\u001b[0m\u001b[0m\n\u001b[0m\u001b[1;32m    824\u001b[0m \u001b[0;34m\u001b[0m\u001b[0m\n\u001b[1;32m    825\u001b[0m     \u001b[0;32mdef\u001b[0m \u001b[0mshow_exception_only\u001b[0m\u001b[0;34m(\u001b[0m\u001b[0mself\u001b[0m\u001b[0;34m,\u001b[0m \u001b[0metype\u001b[0m\u001b[0;34m,\u001b[0m \u001b[0mevalue\u001b[0m\u001b[0;34m)\u001b[0m\u001b[0;34m:\u001b[0m\u001b[0;34m\u001b[0m\u001b[0;34m\u001b[0m\u001b[0m\n",
      "\u001b[0;32m/usr/local/anaconda3/envs/py39/lib/python3.8/site-packages/IPython/core/ultratb.py\u001b[0m in \u001b[0;36mstructured_traceback\u001b[0;34m(self, etype, evalue, etb, tb_offset, context)\u001b[0m\n\u001b[1;32m    696\u001b[0m             \u001b[0mchained_exceptions_tb_offset\u001b[0m \u001b[0;34m=\u001b[0m \u001b[0;36m0\u001b[0m\u001b[0;34m\u001b[0m\u001b[0;34m\u001b[0m\u001b[0m\n\u001b[1;32m    697\u001b[0m             out_list = (\n\u001b[0;32m--> 698\u001b[0;31m                 self.structured_traceback(\n\u001b[0m\u001b[1;32m    699\u001b[0m                     \u001b[0metype\u001b[0m\u001b[0;34m,\u001b[0m \u001b[0mevalue\u001b[0m\u001b[0;34m,\u001b[0m \u001b[0;34m(\u001b[0m\u001b[0metb\u001b[0m\u001b[0;34m,\u001b[0m \u001b[0mchained_exc_ids\u001b[0m\u001b[0;34m)\u001b[0m\u001b[0;34m,\u001b[0m\u001b[0;34m\u001b[0m\u001b[0;34m\u001b[0m\u001b[0m\n\u001b[1;32m    700\u001b[0m                     chained_exceptions_tb_offset, context)\n",
      "\u001b[0;32m/usr/local/anaconda3/envs/py39/lib/python3.8/site-packages/IPython/core/ultratb.py\u001b[0m in \u001b[0;36mstructured_traceback\u001b[0;34m(self, etype, value, tb, tb_offset, number_of_lines_of_context)\u001b[0m\n\u001b[1;32m   1434\u001b[0m         \u001b[0;32melse\u001b[0m\u001b[0;34m:\u001b[0m\u001b[0;34m\u001b[0m\u001b[0;34m\u001b[0m\u001b[0m\n\u001b[1;32m   1435\u001b[0m             \u001b[0mself\u001b[0m\u001b[0;34m.\u001b[0m\u001b[0mtb\u001b[0m \u001b[0;34m=\u001b[0m \u001b[0mtb\u001b[0m\u001b[0;34m\u001b[0m\u001b[0;34m\u001b[0m\u001b[0m\n\u001b[0;32m-> 1436\u001b[0;31m         return FormattedTB.structured_traceback(\n\u001b[0m\u001b[1;32m   1437\u001b[0m             self, etype, value, tb, tb_offset, number_of_lines_of_context)\n\u001b[1;32m   1438\u001b[0m \u001b[0;34m\u001b[0m\u001b[0m\n",
      "\u001b[0;32m/usr/local/anaconda3/envs/py39/lib/python3.8/site-packages/IPython/core/ultratb.py\u001b[0m in \u001b[0;36mstructured_traceback\u001b[0;34m(self, etype, value, tb, tb_offset, number_of_lines_of_context)\u001b[0m\n\u001b[1;32m   1334\u001b[0m         \u001b[0;32mif\u001b[0m \u001b[0mmode\u001b[0m \u001b[0;32min\u001b[0m \u001b[0mself\u001b[0m\u001b[0;34m.\u001b[0m\u001b[0mverbose_modes\u001b[0m\u001b[0;34m:\u001b[0m\u001b[0;34m\u001b[0m\u001b[0;34m\u001b[0m\u001b[0m\n\u001b[1;32m   1335\u001b[0m             \u001b[0;31m# Verbose modes need a full traceback\u001b[0m\u001b[0;34m\u001b[0m\u001b[0;34m\u001b[0m\u001b[0;34m\u001b[0m\u001b[0m\n\u001b[0;32m-> 1336\u001b[0;31m             return VerboseTB.structured_traceback(\n\u001b[0m\u001b[1;32m   1337\u001b[0m                 \u001b[0mself\u001b[0m\u001b[0;34m,\u001b[0m \u001b[0metype\u001b[0m\u001b[0;34m,\u001b[0m \u001b[0mvalue\u001b[0m\u001b[0;34m,\u001b[0m \u001b[0mtb\u001b[0m\u001b[0;34m,\u001b[0m \u001b[0mtb_offset\u001b[0m\u001b[0;34m,\u001b[0m \u001b[0mnumber_of_lines_of_context\u001b[0m\u001b[0;34m\u001b[0m\u001b[0;34m\u001b[0m\u001b[0m\n\u001b[1;32m   1338\u001b[0m             )\n",
      "\u001b[0;32m/usr/local/anaconda3/envs/py39/lib/python3.8/site-packages/IPython/core/ultratb.py\u001b[0m in \u001b[0;36mstructured_traceback\u001b[0;34m(self, etype, evalue, etb, tb_offset, number_of_lines_of_context)\u001b[0m\n\u001b[1;32m   1191\u001b[0m         \u001b[0;34m\"\"\"Return a nice text document describing the traceback.\"\"\"\u001b[0m\u001b[0;34m\u001b[0m\u001b[0;34m\u001b[0m\u001b[0m\n\u001b[1;32m   1192\u001b[0m \u001b[0;34m\u001b[0m\u001b[0m\n\u001b[0;32m-> 1193\u001b[0;31m         formatted_exception = self.format_exception_as_a_whole(etype, evalue, etb, number_of_lines_of_context,\n\u001b[0m\u001b[1;32m   1194\u001b[0m                                                                tb_offset)\n\u001b[1;32m   1195\u001b[0m \u001b[0;34m\u001b[0m\u001b[0m\n",
      "\u001b[0;32m/usr/local/anaconda3/envs/py39/lib/python3.8/site-packages/IPython/core/ultratb.py\u001b[0m in \u001b[0;36mformat_exception_as_a_whole\u001b[0;34m(self, etype, evalue, etb, number_of_lines_of_context, tb_offset)\u001b[0m\n\u001b[1;32m   1149\u001b[0m \u001b[0;34m\u001b[0m\u001b[0m\n\u001b[1;32m   1150\u001b[0m \u001b[0;34m\u001b[0m\u001b[0m\n\u001b[0;32m-> 1151\u001b[0;31m         \u001b[0mlast_unique\u001b[0m\u001b[0;34m,\u001b[0m \u001b[0mrecursion_repeat\u001b[0m \u001b[0;34m=\u001b[0m \u001b[0mfind_recursion\u001b[0m\u001b[0;34m(\u001b[0m\u001b[0morig_etype\u001b[0m\u001b[0;34m,\u001b[0m \u001b[0mevalue\u001b[0m\u001b[0;34m,\u001b[0m \u001b[0mrecords\u001b[0m\u001b[0;34m)\u001b[0m\u001b[0;34m\u001b[0m\u001b[0;34m\u001b[0m\u001b[0m\n\u001b[0m\u001b[1;32m   1152\u001b[0m \u001b[0;34m\u001b[0m\u001b[0m\n\u001b[1;32m   1153\u001b[0m         \u001b[0mframes\u001b[0m \u001b[0;34m=\u001b[0m \u001b[0mself\u001b[0m\u001b[0;34m.\u001b[0m\u001b[0mformat_records\u001b[0m\u001b[0;34m(\u001b[0m\u001b[0mrecords\u001b[0m\u001b[0;34m,\u001b[0m \u001b[0mlast_unique\u001b[0m\u001b[0;34m,\u001b[0m \u001b[0mrecursion_repeat\u001b[0m\u001b[0;34m)\u001b[0m\u001b[0;34m\u001b[0m\u001b[0;34m\u001b[0m\u001b[0m\n",
      "\u001b[0;32m/usr/local/anaconda3/envs/py39/lib/python3.8/site-packages/IPython/core/ultratb.py\u001b[0m in \u001b[0;36mfind_recursion\u001b[0;34m(etype, value, records)\u001b[0m\n\u001b[1;32m    449\u001b[0m     \u001b[0;31m# first frame (from in to out) that looks different.\u001b[0m\u001b[0;34m\u001b[0m\u001b[0;34m\u001b[0m\u001b[0;34m\u001b[0m\u001b[0m\n\u001b[1;32m    450\u001b[0m     \u001b[0;32mif\u001b[0m \u001b[0;32mnot\u001b[0m \u001b[0mis_recursion_error\u001b[0m\u001b[0;34m(\u001b[0m\u001b[0metype\u001b[0m\u001b[0;34m,\u001b[0m \u001b[0mvalue\u001b[0m\u001b[0;34m,\u001b[0m \u001b[0mrecords\u001b[0m\u001b[0;34m)\u001b[0m\u001b[0;34m:\u001b[0m\u001b[0;34m\u001b[0m\u001b[0;34m\u001b[0m\u001b[0m\n\u001b[0;32m--> 451\u001b[0;31m         \u001b[0;32mreturn\u001b[0m \u001b[0mlen\u001b[0m\u001b[0;34m(\u001b[0m\u001b[0mrecords\u001b[0m\u001b[0;34m)\u001b[0m\u001b[0;34m,\u001b[0m \u001b[0;36m0\u001b[0m\u001b[0;34m\u001b[0m\u001b[0;34m\u001b[0m\u001b[0m\n\u001b[0m\u001b[1;32m    452\u001b[0m \u001b[0;34m\u001b[0m\u001b[0m\n\u001b[1;32m    453\u001b[0m     \u001b[0;31m# Select filename, lineno, func_name to track frames with\u001b[0m\u001b[0;34m\u001b[0m\u001b[0;34m\u001b[0m\u001b[0;34m\u001b[0m\u001b[0m\n",
      "\u001b[0;31mTypeError\u001b[0m: object of type 'NoneType' has no len()"
     ]
    }
   ],
   "source": [
    "TableStats(table, con)"
   ]
  },
  {
   "cell_type": "code",
   "execution_count": 48,
   "metadata": {
    "scrolled": false
   },
   "outputs": [
    {
     "name": "stdout",
     "output_type": "stream",
     "text": [
      "something wrong\n",
      "hello\n"
     ]
    }
   ],
   "source": [
    "try:\n",
    "    pd.read_sql(\"desc table {}\".format(table), con)\n",
    "except:\n",
    "#     raise SystemExit('error in code want to exit')\n",
    "#     print(sys.exc_info())\n",
    "#     sys.exit(\"something wrong\")\n",
    "\n",
    "    print(\"something wrong\")\n",
    "    exit()\n",
    "#     sys.exit(0)\n",
    "print('hello')"
   ]
  },
  {
   "cell_type": "code",
   "execution_count": 11,
   "metadata": {},
   "outputs": [
    {
     "data": {
      "text/plain": [
       "(       test_type column_names results  uniques_left  uniques_right shared  \\\n",
       " 0  DistinctValue   [col_name]  PASSED            25             25     25   \n",
       " \n",
       "   diff_pct threshold  \n",
       " 0      NaN       NaN  ,\n",
       "                   col_name _merge\n",
       " 0                 TBC_UUID   both\n",
       " 1            VPR_TIMESTAMP   both\n",
       " 2           VPR_PROFILE_ID   both\n",
       " 3           VPR_VIDEO_GUID   both\n",
       " 4             VPR_TIMECODE   both\n",
       " 5             VPR_DURATION   both\n",
       " 6   VPR_HEARTBEAT_INTERVAL   both\n",
       " 7             VPR_PLATFORM   both\n",
       " 8     VPR_PLATFORM_DETAILS   both\n",
       " 9           VPR_EVENT_TYPE   both\n",
       " 10       VPR_EVENT_DETAILS   both\n",
       " 11                 VPR_DST   both\n",
       " 12                  VPR_IP   both\n",
       " 13          VPR_SESSION_ID   both\n",
       " 14     VPR_LOCAL_TIMESTAMP   both\n",
       " 15          VPR_USER_AGENT   both\n",
       " 16  VPR_TEALIUM_VISITOR_ID   both\n",
       " 17  VPR_TEALIUM_SESSION_ID   both\n",
       " 18        VPR_SUBTITLES_ON   both\n",
       " 19         VPR_AUDIO_TRACK   both\n",
       " 20      VPR_SUBTITLE_TRACK   both\n",
       " 21      VPR_PLAYER_VISIBLE   both\n",
       " 22           TBC_SRC_STAGE   both\n",
       " 23            TBC_SRC_PATH   both\n",
       " 24             TBC_LOAD_TS   both)"
      ]
     },
     "execution_count": 11,
     "metadata": {},
     "output_type": "execute_result"
    }
   ],
   "source": [
    "TC.compare_group_count(tbl_a.columns, tbl_b.columns)"
   ]
  },
  {
   "cell_type": "code",
   "execution_count": 17,
   "metadata": {
    "scrolled": false
   },
   "outputs": [
    {
     "name": "stdout",
     "output_type": "stream",
     "text": [
      "<class 'pandas.core.frame.DataFrame'>\n",
      "RangeIndex: 40 entries, 0 to 39\n",
      "Data columns (total 2 columns):\n",
      " #   Column        Non-Null Count  Dtype \n",
      "---  ------        --------------  ----- \n",
      " 0   vpr_duration  40 non-null     object\n",
      " 1   cnt           40 non-null     int64 \n",
      "dtypes: int64(1), object(1)\n",
      "memory usage: 768.0+ bytes\n"
     ]
    }
   ],
   "source": [
    "tbl_a.get_group_count(\"VPR_DURATION\").info()"
   ]
  },
  {
   "cell_type": "code",
   "execution_count": 18,
   "metadata": {},
   "outputs": [
    {
     "name": "stdout",
     "output_type": "stream",
     "text": [
      "<class 'pandas.core.frame.DataFrame'>\n",
      "RangeIndex: 40 entries, 0 to 39\n",
      "Data columns (total 2 columns):\n",
      " #   Column        Non-Null Count  Dtype\n",
      "---  ------        --------------  -----\n",
      " 0   vpr_duration  40 non-null     int64\n",
      " 1   cnt           40 non-null     int64\n",
      "dtypes: int64(2)\n",
      "memory usage: 768.0 bytes\n"
     ]
    }
   ],
   "source": [
    "tbl_b.get_group_count(\"VPR_DURATION\").info()"
   ]
  },
  {
   "cell_type": "code",
   "execution_count": 20,
   "metadata": {},
   "outputs": [
    {
     "data": {
      "text/plain": [
       "'TEXT'"
      ]
     },
     "execution_count": 20,
     "metadata": {},
     "output_type": "execute_result"
    }
   ],
   "source": [
    "a = tbl_a.get_column_names_with_type().iloc[0,1]\n",
    "import json\n",
    "res = json.loads(a)\n",
    "type(res)\n",
    "res['type']\n",
    "test = '{\"type\":\"TEXT\",\"length\":16777216,\"byteLength\":16777216,\"nullable\":true,\"fixed\":false}'\n",
    "\n",
    "json.loads(test)['type']"
   ]
  },
  {
   "cell_type": "code",
   "execution_count": 22,
   "metadata": {},
   "outputs": [
    {
     "data": {
      "text/html": [
       "<div>\n",
       "<style scoped>\n",
       "    .dataframe tbody tr th:only-of-type {\n",
       "        vertical-align: middle;\n",
       "    }\n",
       "\n",
       "    .dataframe tbody tr th {\n",
       "        vertical-align: top;\n",
       "    }\n",
       "\n",
       "    .dataframe thead th {\n",
       "        text-align: right;\n",
       "    }\n",
       "</style>\n",
       "<table border=\"1\" class=\"dataframe\">\n",
       "  <thead>\n",
       "    <tr style=\"text-align: right;\">\n",
       "      <th></th>\n",
       "      <th>col_name</th>\n",
       "      <th>type</th>\n",
       "    </tr>\n",
       "  </thead>\n",
       "  <tbody>\n",
       "    <tr>\n",
       "      <th>0</th>\n",
       "      <td>TBC_UUID</td>\n",
       "      <td>{\"type\":\"TEXT\",\"length\":16777216,\"byteLength\":...</td>\n",
       "    </tr>\n",
       "    <tr>\n",
       "      <th>1</th>\n",
       "      <td>VPR_TIMESTAMP</td>\n",
       "      <td>{\"type\":\"TEXT\",\"length\":16777216,\"byteLength\":...</td>\n",
       "    </tr>\n",
       "    <tr>\n",
       "      <th>2</th>\n",
       "      <td>VPR_PROFILE_ID</td>\n",
       "      <td>{\"type\":\"TEXT\",\"length\":16777216,\"byteLength\":...</td>\n",
       "    </tr>\n",
       "    <tr>\n",
       "      <th>3</th>\n",
       "      <td>VPR_VIDEO_GUID</td>\n",
       "      <td>{\"type\":\"TEXT\",\"length\":16777216,\"byteLength\":...</td>\n",
       "    </tr>\n",
       "    <tr>\n",
       "      <th>4</th>\n",
       "      <td>VPR_TIMECODE</td>\n",
       "      <td>{\"type\":\"TEXT\",\"length\":16777216,\"byteLength\":...</td>\n",
       "    </tr>\n",
       "    <tr>\n",
       "      <th>5</th>\n",
       "      <td>VPR_DURATION</td>\n",
       "      <td>{\"type\":\"FIXED\",\"precision\":38,\"scale\":0,\"null...</td>\n",
       "    </tr>\n",
       "    <tr>\n",
       "      <th>6</th>\n",
       "      <td>VPR_HEARTBEAT_INTERVAL</td>\n",
       "      <td>{\"type\":\"FIXED\",\"precision\":38,\"scale\":0,\"null...</td>\n",
       "    </tr>\n",
       "    <tr>\n",
       "      <th>7</th>\n",
       "      <td>VPR_PLATFORM</td>\n",
       "      <td>{\"type\":\"TEXT\",\"length\":16777216,\"byteLength\":...</td>\n",
       "    </tr>\n",
       "    <tr>\n",
       "      <th>8</th>\n",
       "      <td>VPR_PLATFORM_DETAILS</td>\n",
       "      <td>{\"type\":\"TEXT\",\"length\":16777216,\"byteLength\":...</td>\n",
       "    </tr>\n",
       "    <tr>\n",
       "      <th>9</th>\n",
       "      <td>VPR_EVENT_TYPE</td>\n",
       "      <td>{\"type\":\"TEXT\",\"length\":16777216,\"byteLength\":...</td>\n",
       "    </tr>\n",
       "    <tr>\n",
       "      <th>10</th>\n",
       "      <td>VPR_EVENT_DETAILS</td>\n",
       "      <td>{\"type\":\"TEXT\",\"length\":16777216,\"byteLength\":...</td>\n",
       "    </tr>\n",
       "    <tr>\n",
       "      <th>11</th>\n",
       "      <td>VPR_DST</td>\n",
       "      <td>{\"type\":\"TEXT\",\"length\":16777216,\"byteLength\":...</td>\n",
       "    </tr>\n",
       "    <tr>\n",
       "      <th>12</th>\n",
       "      <td>VPR_IP</td>\n",
       "      <td>{\"type\":\"TEXT\",\"length\":16777216,\"byteLength\":...</td>\n",
       "    </tr>\n",
       "    <tr>\n",
       "      <th>13</th>\n",
       "      <td>VPR_SESSION_ID</td>\n",
       "      <td>{\"type\":\"TEXT\",\"length\":16777216,\"byteLength\":...</td>\n",
       "    </tr>\n",
       "    <tr>\n",
       "      <th>14</th>\n",
       "      <td>VPR_LOCAL_TIMESTAMP</td>\n",
       "      <td>{\"type\":\"TIMESTAMP_NTZ\",\"precision\":0,\"scale\":...</td>\n",
       "    </tr>\n",
       "    <tr>\n",
       "      <th>15</th>\n",
       "      <td>VPR_USER_AGENT</td>\n",
       "      <td>{\"type\":\"TEXT\",\"length\":16777216,\"byteLength\":...</td>\n",
       "    </tr>\n",
       "    <tr>\n",
       "      <th>16</th>\n",
       "      <td>VPR_TEALIUM_VISITOR_ID</td>\n",
       "      <td>{\"type\":\"TEXT\",\"length\":16777216,\"byteLength\":...</td>\n",
       "    </tr>\n",
       "    <tr>\n",
       "      <th>17</th>\n",
       "      <td>VPR_TEALIUM_SESSION_ID</td>\n",
       "      <td>{\"type\":\"TEXT\",\"length\":16777216,\"byteLength\":...</td>\n",
       "    </tr>\n",
       "    <tr>\n",
       "      <th>18</th>\n",
       "      <td>VPR_SUBTITLES_ON</td>\n",
       "      <td>{\"type\":\"BOOLEAN\",\"nullable\":true}</td>\n",
       "    </tr>\n",
       "    <tr>\n",
       "      <th>19</th>\n",
       "      <td>VPR_AUDIO_TRACK</td>\n",
       "      <td>{\"type\":\"TEXT\",\"length\":16777216,\"byteLength\":...</td>\n",
       "    </tr>\n",
       "    <tr>\n",
       "      <th>20</th>\n",
       "      <td>VPR_SUBTITLE_TRACK</td>\n",
       "      <td>{\"type\":\"BOOLEAN\",\"nullable\":true}</td>\n",
       "    </tr>\n",
       "    <tr>\n",
       "      <th>21</th>\n",
       "      <td>VPR_PLAYER_VISIBLE</td>\n",
       "      <td>{\"type\":\"TEXT\",\"length\":16777216,\"byteLength\":...</td>\n",
       "    </tr>\n",
       "    <tr>\n",
       "      <th>22</th>\n",
       "      <td>TBC_SRC_STAGE</td>\n",
       "      <td>{\"type\":\"TEXT\",\"length\":14,\"byteLength\":56,\"nu...</td>\n",
       "    </tr>\n",
       "    <tr>\n",
       "      <th>23</th>\n",
       "      <td>TBC_SRC_PATH</td>\n",
       "      <td>{\"type\":\"TEXT\",\"length\":16777216,\"byteLength\":...</td>\n",
       "    </tr>\n",
       "    <tr>\n",
       "      <th>24</th>\n",
       "      <td>TBC_LOAD_TS</td>\n",
       "      <td>{\"type\":\"TIMESTAMP_NTZ\",\"precision\":0,\"scale\":...</td>\n",
       "    </tr>\n",
       "  </tbody>\n",
       "</table>\n",
       "</div>"
      ],
      "text/plain": [
       "                  col_name                                               type\n",
       "0                 TBC_UUID  {\"type\":\"TEXT\",\"length\":16777216,\"byteLength\":...\n",
       "1            VPR_TIMESTAMP  {\"type\":\"TEXT\",\"length\":16777216,\"byteLength\":...\n",
       "2           VPR_PROFILE_ID  {\"type\":\"TEXT\",\"length\":16777216,\"byteLength\":...\n",
       "3           VPR_VIDEO_GUID  {\"type\":\"TEXT\",\"length\":16777216,\"byteLength\":...\n",
       "4             VPR_TIMECODE  {\"type\":\"TEXT\",\"length\":16777216,\"byteLength\":...\n",
       "5             VPR_DURATION  {\"type\":\"FIXED\",\"precision\":38,\"scale\":0,\"null...\n",
       "6   VPR_HEARTBEAT_INTERVAL  {\"type\":\"FIXED\",\"precision\":38,\"scale\":0,\"null...\n",
       "7             VPR_PLATFORM  {\"type\":\"TEXT\",\"length\":16777216,\"byteLength\":...\n",
       "8     VPR_PLATFORM_DETAILS  {\"type\":\"TEXT\",\"length\":16777216,\"byteLength\":...\n",
       "9           VPR_EVENT_TYPE  {\"type\":\"TEXT\",\"length\":16777216,\"byteLength\":...\n",
       "10       VPR_EVENT_DETAILS  {\"type\":\"TEXT\",\"length\":16777216,\"byteLength\":...\n",
       "11                 VPR_DST  {\"type\":\"TEXT\",\"length\":16777216,\"byteLength\":...\n",
       "12                  VPR_IP  {\"type\":\"TEXT\",\"length\":16777216,\"byteLength\":...\n",
       "13          VPR_SESSION_ID  {\"type\":\"TEXT\",\"length\":16777216,\"byteLength\":...\n",
       "14     VPR_LOCAL_TIMESTAMP  {\"type\":\"TIMESTAMP_NTZ\",\"precision\":0,\"scale\":...\n",
       "15          VPR_USER_AGENT  {\"type\":\"TEXT\",\"length\":16777216,\"byteLength\":...\n",
       "16  VPR_TEALIUM_VISITOR_ID  {\"type\":\"TEXT\",\"length\":16777216,\"byteLength\":...\n",
       "17  VPR_TEALIUM_SESSION_ID  {\"type\":\"TEXT\",\"length\":16777216,\"byteLength\":...\n",
       "18        VPR_SUBTITLES_ON                 {\"type\":\"BOOLEAN\",\"nullable\":true}\n",
       "19         VPR_AUDIO_TRACK  {\"type\":\"TEXT\",\"length\":16777216,\"byteLength\":...\n",
       "20      VPR_SUBTITLE_TRACK                 {\"type\":\"BOOLEAN\",\"nullable\":true}\n",
       "21      VPR_PLAYER_VISIBLE  {\"type\":\"TEXT\",\"length\":16777216,\"byteLength\":...\n",
       "22           TBC_SRC_STAGE  {\"type\":\"TEXT\",\"length\":14,\"byteLength\":56,\"nu...\n",
       "23            TBC_SRC_PATH  {\"type\":\"TEXT\",\"length\":16777216,\"byteLength\":...\n",
       "24             TBC_LOAD_TS  {\"type\":\"TIMESTAMP_NTZ\",\"precision\":0,\"scale\":..."
      ]
     },
     "execution_count": 22,
     "metadata": {},
     "output_type": "execute_result"
    }
   ],
   "source": [
    "tbl_b.get_column_names_with_type()"
   ]
  },
  {
   "cell_type": "code",
   "execution_count": 25,
   "metadata": {},
   "outputs": [],
   "source": [
    "if '': \n",
    "    print(\"h\")"
   ]
  },
  {
   "cell_type": "code",
   "execution_count": null,
   "metadata": {},
   "outputs": [],
   "source": []
  }
 ],
 "metadata": {
  "kernelspec": {
   "display_name": "Python 3",
   "language": "python",
   "name": "python3"
  },
  "language_info": {
   "codemirror_mode": {
    "name": "ipython",
    "version": 3
   },
   "file_extension": ".py",
   "mimetype": "text/x-python",
   "name": "python",
   "nbconvert_exporter": "python",
   "pygments_lexer": "ipython3",
   "version": "3.8.5"
  }
 },
 "nbformat": 4,
 "nbformat_minor": 4
}
