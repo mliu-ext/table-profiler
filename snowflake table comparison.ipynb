{
 "cells": [
  {
   "cell_type": "code",
   "execution_count": 1,
   "metadata": {},
   "outputs": [],
   "source": [
    "from utils import *\n",
    "import argparse\n",
    "from snowflake_config import SNOW_CONFIG\n",
    "\n",
    "def snsql(query, con):\n",
    "    return pd.read_sql(query, con)"
   ]
  },
  {
   "cell_type": "code",
   "execution_count": 25,
   "metadata": {},
   "outputs": [
    {
     "name": "stdout",
     "output_type": "stream",
     "text": [
      "Initiating login request with your identity provider. A browser window should have opened for you to complete the login. If you can't see it, check existing browser windows, or your OS settings. Press CTRL+C to abort and try again...\n",
      "('ETL_WH', None, None)\n",
      "\n"
     ]
    }
   ],
   "source": [
    "# Gets the version\n",
    "ctx = snowflake.connector.connect(\n",
    "    user = 'mliu-ext@beachbody.com',\n",
    "    account = 'tbc-dev',\n",
    "    authenticator = 'externalbrowser',\n",
    "    role = 'DNA_DE',\n",
    "    warehouse = 'ETL_WH'\n",
    "    )\n",
    "cs = ctx.cursor()\n",
    "try:\n",
    "    cs.execute(\"select current_warehouse(), current_database(), current_schema();\")\n",
    "    one_row = cs.fetchone()\n",
    "    print(one_row)\n",
    "finally:\n",
    "    print()\n",
    "    cs.close()\n",
    "ctx.close()"
   ]
  },
  {
   "cell_type": "code",
   "execution_count": 3,
   "metadata": {},
   "outputs": [
    {
     "name": "stdout",
     "output_type": "stream",
     "text": [
      "Initiating login request with your identity provider. A browser window should have opened for you to complete the login. If you can't see it, check existing browser windows, or your OS settings. Press CTRL+C to abort and try again...\n",
      "  CURRENT_ROLE() CURRENT_WAREHOUSE() CURRENT_DATABASE() CURRENT_SCHEMA()\n",
      "0         DNA_DE              ETL_WH               None             None\n"
     ]
    }
   ],
   "source": [
    "# create snowflake connector\n",
    "con = sn_conn(SNOW_CONFIG)\n",
    "con.cursor().execute(\"USE WAREHOUSE ETL_WH\");\n",
    "\n",
    "# print out the current role and wharehouse\n",
    "query = \"\"\"select current_role(), current_warehouse(), current_database(), current_schema()\"\"\"\n",
    "print(snsql(query, con))"
   ]
  },
  {
   "cell_type": "code",
   "execution_count": 4,
   "metadata": {
    "scrolled": false
   },
   "outputs": [],
   "source": [
    "full_tbl_path = 'SNOWFLAKE_SAMPLE_DATA.TPCDS_SF100TCL.Call_Center'\n",
    "\n",
    "table = TableStats(full_tbl_path, con)"
   ]
  },
  {
   "cell_type": "code",
   "execution_count": 5,
   "metadata": {},
   "outputs": [
    {
     "data": {
      "text/plain": [
       "31"
      ]
     },
     "execution_count": 5,
     "metadata": {},
     "output_type": "execute_result"
    }
   ],
   "source": [
    "table.col_count\n"
   ]
  },
  {
   "cell_type": "code",
   "execution_count": null,
   "metadata": {},
   "outputs": [],
   "source": []
  },
  {
   "cell_type": "code",
   "execution_count": 6,
   "metadata": {},
   "outputs": [],
   "source": [
    "def main():\n",
    "    \n",
    "    table = 'SNOWFLAKE_SAMPLE_DATA.TPCDS_SF100TCL.Call_Center'\n",
    "    \n",
    "    prod = TableStats(table, con)\n",
    "    dev = TableStats(table, con)\n",
    "    \n",
    "    TC = TableComp()\n",
    "    res, df = TC.compare_all_cols(prod, dev)\n",
    "    \n",
    "    print(\"----------residual dataframe-------------\")\n",
    "    print(res)\n",
    "    \n",
    "    return res, df"
   ]
  },
  {
   "cell_type": "code",
   "execution_count": 7,
   "metadata": {},
   "outputs": [
    {
     "data": {
      "text/plain": [
       "2"
      ]
     },
     "execution_count": 7,
     "metadata": {},
     "output_type": "execute_result"
    }
   ],
   "source": [
    "# test\n",
    "dfa = pd.DataFrame([['a', 1], ['b',2]], columns=['value', 'cnt2'])\n",
    "dfb = pd.DataFrame([['a', 3], ['b',2]], columns=['value', 'cnt2'])\n",
    "TC = TableComp()\n",
    "\n",
    "res, df = TC.compare_group_count(dfa, dfb)\n",
    "\n",
    "df.loc[:,'cnt2'] = df['cnt2'].apply(lambda x: x*x)\n",
    "df['cnt2'].iloc[0] * 2"
   ]
  },
  {
   "cell_type": "code",
   "execution_count": 8,
   "metadata": {
    "scrolled": false
   },
   "outputs": [
    {
     "name": "stdout",
     "output_type": "stream",
     "text": [
      "\n",
      "Comparing two tables coloumn by column. number of columns: 31\n",
      "\n"
     ]
    },
    {
     "name": "stderr",
     "output_type": "stream",
     "text": [
      "/usr/local/anaconda3/envs/table_profiler/lib/python3.8/site-packages/pandas/core/indexing.py:1843: SettingWithCopyWarning: \n",
      "A value is trying to be set on a copy of a slice from a DataFrame.\n",
      "Try using .loc[row_indexer,col_indexer] = value instead\n",
      "\n",
      "See the caveats in the documentation: https://pandas.pydata.org/pandas-docs/stable/user_guide/indexing.html#returning-a-view-versus-a-copy\n",
      "  self.obj[item_labels[indexer[info_axis]]] = value\n"
     ]
    },
    {
     "data": {
      "application/vnd.jupyter.widget-view+json": {
       "model_id": "7b3853524c794aa283fd70e28890c78c",
       "version_major": 2,
       "version_minor": 0
      },
      "text/plain": [
       "  0%|          | 0/31 [00:00<?, ?it/s]"
      ]
     },
     "metadata": {},
     "output_type": "display_data"
    },
    {
     "name": "stdout",
     "output_type": "stream",
     "text": [
      "comparing column: CC_CALL_CENTER_SK\n",
      "comparing column: CC_CALL_CENTER_ID\n",
      "comparing column: CC_REC_START_DATE\n",
      "comparing column: CC_REC_END_DATE\n",
      "comparing column: CC_CLOSED_DATE_SK\n",
      "comparing column: CC_OPEN_DATE_SK\n",
      "comparing column: CC_NAME\n",
      "comparing column: CC_CLASS\n",
      "comparing column: CC_EMPLOYEES\n",
      "comparing column: CC_SQ_FT\n",
      "comparing column: CC_HOURS\n",
      "comparing column: CC_MANAGER\n",
      "comparing column: CC_MKT_ID\n",
      "comparing column: CC_MKT_CLASS\n",
      "comparing column: CC_MKT_DESC\n",
      "comparing column: CC_MARKET_MANAGER\n",
      "comparing column: CC_DIVISION\n",
      "comparing column: CC_DIVISION_NAME\n",
      "comparing column: CC_COMPANY\n",
      "comparing column: CC_COMPANY_NAME\n",
      "comparing column: CC_STREET_NUMBER\n",
      "comparing column: CC_STREET_NAME\n",
      "comparing column: CC_STREET_TYPE\n",
      "comparing column: CC_SUITE_NUMBER\n",
      "comparing column: CC_CITY\n",
      "comparing column: CC_COUNTY\n",
      "comparing column: CC_STATE\n",
      "comparing column: CC_ZIP\n",
      "comparing column: CC_COUNTRY\n",
      "comparing column: CC_GMT_OFFSET\n",
      "comparing column: CC_TAX_PERCENTAGE\n",
      "----------residual dataframe-------------\n",
      "        test_type         column_names results uniques_left uniques_right  \\\n",
      "0    numberOfRows                  NaN  PASSED           60            60   \n",
      "1   DistinctValue     [col_name, type]  PASSED           31            31   \n",
      "2    GroupByCount  [cc_call_center_sk]  PASSED           60            60   \n",
      "3    GroupByCount  [cc_call_center_id]  PASSED           30            30   \n",
      "4    GroupByCount  [cc_rec_start_date]  PASSED            4             4   \n",
      "5    GroupByCount    [cc_rec_end_date]  PASSED            4             4   \n",
      "6    GroupByCount  [cc_closed_date_sk]  PASSED            1             1   \n",
      "7    GroupByCount    [cc_open_date_sk]  PASSED           30            30   \n",
      "8    GroupByCount            [cc_name]  PASSED           30            30   \n",
      "9    GroupByCount           [cc_class]  PASSED            3             3   \n",
      "10   GroupByCount       [cc_employees]  PASSED           43            43   \n",
      "11   GroupByCount           [cc_sq_ft]  PASSED           47            47   \n",
      "12   GroupByCount           [cc_hours]  PASSED            3             3   \n",
      "13   GroupByCount         [cc_manager]  PASSED           42            42   \n",
      "14   GroupByCount          [cc_mkt_id]  PASSED            6             6   \n",
      "15   GroupByCount       [cc_mkt_class]  PASSED           52            52   \n",
      "16   GroupByCount        [cc_mkt_desc]  PASSED           48            48   \n",
      "17   GroupByCount  [cc_market_manager]  PASSED           48            48   \n",
      "18   GroupByCount        [cc_division]  PASSED            6             6   \n",
      "19   GroupByCount   [cc_division_name]  PASSED            6             6   \n",
      "20   GroupByCount         [cc_company]  PASSED            6             6   \n",
      "21   GroupByCount    [cc_company_name]  PASSED            6             6   \n",
      "22   GroupByCount   [cc_street_number]  PASSED           30            30   \n",
      "23   GroupByCount     [cc_street_name]  PASSED           29            29   \n",
      "24   GroupByCount     [cc_street_type]  PASSED           14            14   \n",
      "25   GroupByCount    [cc_suite_number]  PASSED           26            26   \n",
      "26   GroupByCount            [cc_city]  PASSED           25            25   \n",
      "27   GroupByCount          [cc_county]  PASSED           25            25   \n",
      "28   GroupByCount           [cc_state]  PASSED           19            19   \n",
      "29   GroupByCount             [cc_zip]  PASSED           30            30   \n",
      "30   GroupByCount         [cc_country]  PASSED            1             1   \n",
      "31   GroupByCount      [cc_gmt_offset]  PASSED            4             4   \n",
      "32   GroupByCount  [cc_tax_percentage]  PASSED           13            13   \n",
      "\n",
      "   shared diff_pct threshold  \n",
      "0     NaN      0.0         0  \n",
      "1      31      NaN       NaN  \n",
      "2      60      NaN       NaN  \n",
      "3      30      NaN       NaN  \n",
      "4       4      NaN       NaN  \n",
      "5       4      NaN       NaN  \n",
      "6       1      NaN       NaN  \n",
      "7      30      NaN       NaN  \n",
      "8      30      NaN       NaN  \n",
      "9       3      NaN       NaN  \n",
      "10     43      NaN       NaN  \n",
      "11     47      NaN       NaN  \n",
      "12      3      NaN       NaN  \n",
      "13     42      NaN       NaN  \n",
      "14      6      NaN       NaN  \n",
      "15     52      NaN       NaN  \n",
      "16     48      NaN       NaN  \n",
      "17     48      NaN       NaN  \n",
      "18      6      NaN       NaN  \n",
      "19      6      NaN       NaN  \n",
      "20      6      NaN       NaN  \n",
      "21      6      NaN       NaN  \n",
      "22     30      NaN       NaN  \n",
      "23     29      NaN       NaN  \n",
      "24     14      NaN       NaN  \n",
      "25     26      NaN       NaN  \n",
      "26     25      NaN       NaN  \n",
      "27     25      NaN       NaN  \n",
      "28     19      NaN       NaN  \n",
      "29     30      NaN       NaN  \n",
      "30      1      NaN       NaN  \n",
      "31      4      NaN       NaN  \n",
      "32     13      NaN       NaN  \n"
     ]
    }
   ],
   "source": [
    "res, df = main()"
   ]
  },
  {
   "cell_type": "code",
   "execution_count": 12,
   "metadata": {},
   "outputs": [
    {
     "data": {
      "text/html": [
       "<div>\n",
       "<style scoped>\n",
       "    .dataframe tbody tr th:only-of-type {\n",
       "        vertical-align: middle;\n",
       "    }\n",
       "\n",
       "    .dataframe tbody tr th {\n",
       "        vertical-align: top;\n",
       "    }\n",
       "\n",
       "    .dataframe thead th {\n",
       "        text-align: right;\n",
       "    }\n",
       "</style>\n",
       "<table border=\"1\" class=\"dataframe\">\n",
       "  <thead>\n",
       "    <tr style=\"text-align: right;\">\n",
       "      <th></th>\n",
       "      <th>test_type</th>\n",
       "      <th>column_names</th>\n",
       "      <th>results</th>\n",
       "      <th>uniques_left</th>\n",
       "      <th>uniques_right</th>\n",
       "      <th>shared</th>\n",
       "      <th>diff_pct</th>\n",
       "      <th>threshold</th>\n",
       "    </tr>\n",
       "  </thead>\n",
       "  <tbody>\n",
       "    <tr>\n",
       "      <th>0</th>\n",
       "      <td>numberOfRows</td>\n",
       "      <td>NaN</td>\n",
       "      <td>PASSED</td>\n",
       "      <td>2476</td>\n",
       "      <td>2476</td>\n",
       "      <td>NaN</td>\n",
       "      <td>0.0</td>\n",
       "      <td>0</td>\n",
       "    </tr>\n",
       "  </tbody>\n",
       "</table>\n",
       "</div>"
      ],
      "text/plain": [
       "      test_type column_names results uniques_left uniques_right shared  \\\n",
       "0  numberOfRows          NaN  PASSED         2476          2476    NaN   \n",
       "\n",
       "  diff_pct threshold  \n",
       "0      0.0         0  "
      ]
     },
     "execution_count": 12,
     "metadata": {},
     "output_type": "execute_result"
    }
   ],
   "source": [
    "table = 'SNOWFLAKE_SAMPLE_DATA.TPCDS_SF100TCL.Call_Center'\n",
    "\n",
    "left = 'RAW.JING_VIPER.RAW_VIPER_20201110'\n",
    "right = 'RAW.JING_VIPER.VIPER_20201110'\n",
    "\n",
    "tbl_a = TableStats(left, con)\n",
    "tbl_b = TableStats(right, con)\n",
    "\n",
    "TC = TableComp()\n",
    "df = TC.compare_count(tbl_a.row_count, tbl_b.row_count, 0)\n",
    "df"
   ]
  },
  {
   "cell_type": "code",
   "execution_count": 13,
   "metadata": {
    "scrolled": false
   },
   "outputs": [
    {
     "data": {
      "text/plain": [
       "<utils.TableStats at 0x7ff18e0cb310>"
      ]
     },
     "execution_count": 13,
     "metadata": {},
     "output_type": "execute_result"
    }
   ],
   "source": [
    "TableStats(table, con)"
   ]
  },
  {
   "cell_type": "code",
   "execution_count": 14,
   "metadata": {
    "scrolled": false
   },
   "outputs": [
    {
     "name": "stdout",
     "output_type": "stream",
     "text": [
      "hello\n"
     ]
    }
   ],
   "source": [
    "try:\n",
    "    pd.read_sql(\"desc table {}\".format(table), con)\n",
    "except:\n",
    "#     raise SystemExit('error in code want to exit')\n",
    "#     print(sys.exc_info())\n",
    "#     sys.exit(\"something wrong\")\n",
    "\n",
    "    print(\"something wrong\")\n",
    "    exit()\n",
    "#     sys.exit(0)\n",
    "print('hello')"
   ]
  },
  {
   "cell_type": "code",
   "execution_count": 15,
   "metadata": {},
   "outputs": [
    {
     "data": {
      "text/plain": [
       "(       test_type column_names results  uniques_left  uniques_right shared  \\\n",
       " 0  DistinctValue   [col_name]  PASSED            25             25     25   \n",
       " \n",
       "   diff_pct threshold  \n",
       " 0      NaN       NaN  ,\n",
       "                   col_name _merge\n",
       " 0                 TBC_UUID   both\n",
       " 1            VPR_TIMESTAMP   both\n",
       " 2           VPR_PROFILE_ID   both\n",
       " 3           VPR_VIDEO_GUID   both\n",
       " 4             VPR_TIMECODE   both\n",
       " 5             VPR_DURATION   both\n",
       " 6   VPR_HEARTBEAT_INTERVAL   both\n",
       " 7             VPR_PLATFORM   both\n",
       " 8     VPR_PLATFORM_DETAILS   both\n",
       " 9           VPR_EVENT_TYPE   both\n",
       " 10       VPR_EVENT_DETAILS   both\n",
       " 11                 VPR_DST   both\n",
       " 12                  VPR_IP   both\n",
       " 13          VPR_SESSION_ID   both\n",
       " 14     VPR_LOCAL_TIMESTAMP   both\n",
       " 15          VPR_USER_AGENT   both\n",
       " 16  VPR_TEALIUM_VISITOR_ID   both\n",
       " 17  VPR_TEALIUM_SESSION_ID   both\n",
       " 18        VPR_SUBTITLES_ON   both\n",
       " 19         VPR_AUDIO_TRACK   both\n",
       " 20      VPR_SUBTITLE_TRACK   both\n",
       " 21      VPR_PLAYER_VISIBLE   both\n",
       " 22           TBC_SRC_STAGE   both\n",
       " 23            TBC_SRC_PATH   both\n",
       " 24             TBC_LOAD_TS   both)"
      ]
     },
     "execution_count": 15,
     "metadata": {},
     "output_type": "execute_result"
    }
   ],
   "source": [
    "TC.compare_group_count(tbl_a.columns, tbl_b.columns)"
   ]
  },
  {
   "cell_type": "code",
   "execution_count": 16,
   "metadata": {
    "scrolled": false
   },
   "outputs": [
    {
     "name": "stdout",
     "output_type": "stream",
     "text": [
      "<class 'pandas.core.frame.DataFrame'>\n",
      "RangeIndex: 40 entries, 0 to 39\n",
      "Data columns (total 2 columns):\n",
      " #   Column        Non-Null Count  Dtype \n",
      "---  ------        --------------  ----- \n",
      " 0   vpr_duration  40 non-null     object\n",
      " 1   cnt           40 non-null     int64 \n",
      "dtypes: int64(1), object(1)\n",
      "memory usage: 768.0+ bytes\n"
     ]
    }
   ],
   "source": [
    "tbl_a.get_group_count(\"VPR_DURATION\").info()"
   ]
  },
  {
   "cell_type": "code",
   "execution_count": 17,
   "metadata": {},
   "outputs": [
    {
     "name": "stdout",
     "output_type": "stream",
     "text": [
      "<class 'pandas.core.frame.DataFrame'>\n",
      "RangeIndex: 40 entries, 0 to 39\n",
      "Data columns (total 2 columns):\n",
      " #   Column        Non-Null Count  Dtype\n",
      "---  ------        --------------  -----\n",
      " 0   vpr_duration  40 non-null     int64\n",
      " 1   cnt           40 non-null     int64\n",
      "dtypes: int64(2)\n",
      "memory usage: 768.0 bytes\n"
     ]
    }
   ],
   "source": [
    "tbl_b.get_group_count(\"VPR_DURATION\").info()"
   ]
  },
  {
   "cell_type": "code",
   "execution_count": 19,
   "metadata": {},
   "outputs": [
    {
     "data": {
      "text/plain": [
       "'TEXT'"
      ]
     },
     "execution_count": 19,
     "metadata": {},
     "output_type": "execute_result"
    }
   ],
   "source": [
    "\n",
    "import json\n",
    "test = '{\"type\":\"TEXT\",\"length\":16777216,\"byteLength\":16777216,\"nullable\":true,\"fixed\":false}'\n",
    "\n",
    "json.loads(test)['type']"
   ]
  },
  {
   "cell_type": "code",
   "execution_count": 20,
   "metadata": {},
   "outputs": [
    {
     "data": {
      "text/html": [
       "<div>\n",
       "<style scoped>\n",
       "    .dataframe tbody tr th:only-of-type {\n",
       "        vertical-align: middle;\n",
       "    }\n",
       "\n",
       "    .dataframe tbody tr th {\n",
       "        vertical-align: top;\n",
       "    }\n",
       "\n",
       "    .dataframe thead th {\n",
       "        text-align: right;\n",
       "    }\n",
       "</style>\n",
       "<table border=\"1\" class=\"dataframe\">\n",
       "  <thead>\n",
       "    <tr style=\"text-align: right;\">\n",
       "      <th></th>\n",
       "      <th>col_name</th>\n",
       "      <th>type</th>\n",
       "    </tr>\n",
       "  </thead>\n",
       "  <tbody>\n",
       "    <tr>\n",
       "      <th>0</th>\n",
       "      <td>TBC_UUID</td>\n",
       "      <td>TEXT</td>\n",
       "    </tr>\n",
       "    <tr>\n",
       "      <th>1</th>\n",
       "      <td>VPR_TIMESTAMP</td>\n",
       "      <td>TEXT</td>\n",
       "    </tr>\n",
       "    <tr>\n",
       "      <th>2</th>\n",
       "      <td>VPR_PROFILE_ID</td>\n",
       "      <td>TEXT</td>\n",
       "    </tr>\n",
       "    <tr>\n",
       "      <th>3</th>\n",
       "      <td>VPR_VIDEO_GUID</td>\n",
       "      <td>TEXT</td>\n",
       "    </tr>\n",
       "    <tr>\n",
       "      <th>4</th>\n",
       "      <td>VPR_TIMECODE</td>\n",
       "      <td>TEXT</td>\n",
       "    </tr>\n",
       "    <tr>\n",
       "      <th>5</th>\n",
       "      <td>VPR_DURATION</td>\n",
       "      <td>FIXED</td>\n",
       "    </tr>\n",
       "    <tr>\n",
       "      <th>6</th>\n",
       "      <td>VPR_HEARTBEAT_INTERVAL</td>\n",
       "      <td>FIXED</td>\n",
       "    </tr>\n",
       "    <tr>\n",
       "      <th>7</th>\n",
       "      <td>VPR_PLATFORM</td>\n",
       "      <td>TEXT</td>\n",
       "    </tr>\n",
       "    <tr>\n",
       "      <th>8</th>\n",
       "      <td>VPR_PLATFORM_DETAILS</td>\n",
       "      <td>TEXT</td>\n",
       "    </tr>\n",
       "    <tr>\n",
       "      <th>9</th>\n",
       "      <td>VPR_EVENT_TYPE</td>\n",
       "      <td>TEXT</td>\n",
       "    </tr>\n",
       "    <tr>\n",
       "      <th>10</th>\n",
       "      <td>VPR_EVENT_DETAILS</td>\n",
       "      <td>TEXT</td>\n",
       "    </tr>\n",
       "    <tr>\n",
       "      <th>11</th>\n",
       "      <td>VPR_DST</td>\n",
       "      <td>TEXT</td>\n",
       "    </tr>\n",
       "    <tr>\n",
       "      <th>12</th>\n",
       "      <td>VPR_IP</td>\n",
       "      <td>TEXT</td>\n",
       "    </tr>\n",
       "    <tr>\n",
       "      <th>13</th>\n",
       "      <td>VPR_SESSION_ID</td>\n",
       "      <td>TEXT</td>\n",
       "    </tr>\n",
       "    <tr>\n",
       "      <th>14</th>\n",
       "      <td>VPR_LOCAL_TIMESTAMP</td>\n",
       "      <td>TIMESTAMP_NTZ</td>\n",
       "    </tr>\n",
       "    <tr>\n",
       "      <th>15</th>\n",
       "      <td>VPR_USER_AGENT</td>\n",
       "      <td>TEXT</td>\n",
       "    </tr>\n",
       "    <tr>\n",
       "      <th>16</th>\n",
       "      <td>VPR_TEALIUM_VISITOR_ID</td>\n",
       "      <td>TEXT</td>\n",
       "    </tr>\n",
       "    <tr>\n",
       "      <th>17</th>\n",
       "      <td>VPR_TEALIUM_SESSION_ID</td>\n",
       "      <td>TEXT</td>\n",
       "    </tr>\n",
       "    <tr>\n",
       "      <th>18</th>\n",
       "      <td>VPR_SUBTITLES_ON</td>\n",
       "      <td>BOOLEAN</td>\n",
       "    </tr>\n",
       "    <tr>\n",
       "      <th>19</th>\n",
       "      <td>VPR_AUDIO_TRACK</td>\n",
       "      <td>TEXT</td>\n",
       "    </tr>\n",
       "    <tr>\n",
       "      <th>20</th>\n",
       "      <td>VPR_SUBTITLE_TRACK</td>\n",
       "      <td>BOOLEAN</td>\n",
       "    </tr>\n",
       "    <tr>\n",
       "      <th>21</th>\n",
       "      <td>VPR_PLAYER_VISIBLE</td>\n",
       "      <td>TEXT</td>\n",
       "    </tr>\n",
       "    <tr>\n",
       "      <th>22</th>\n",
       "      <td>TBC_SRC_STAGE</td>\n",
       "      <td>TEXT</td>\n",
       "    </tr>\n",
       "    <tr>\n",
       "      <th>23</th>\n",
       "      <td>TBC_SRC_PATH</td>\n",
       "      <td>TEXT</td>\n",
       "    </tr>\n",
       "    <tr>\n",
       "      <th>24</th>\n",
       "      <td>TBC_LOAD_TS</td>\n",
       "      <td>TIMESTAMP_NTZ</td>\n",
       "    </tr>\n",
       "  </tbody>\n",
       "</table>\n",
       "</div>"
      ],
      "text/plain": [
       "                  col_name           type\n",
       "0                 TBC_UUID           TEXT\n",
       "1            VPR_TIMESTAMP           TEXT\n",
       "2           VPR_PROFILE_ID           TEXT\n",
       "3           VPR_VIDEO_GUID           TEXT\n",
       "4             VPR_TIMECODE           TEXT\n",
       "5             VPR_DURATION          FIXED\n",
       "6   VPR_HEARTBEAT_INTERVAL          FIXED\n",
       "7             VPR_PLATFORM           TEXT\n",
       "8     VPR_PLATFORM_DETAILS           TEXT\n",
       "9           VPR_EVENT_TYPE           TEXT\n",
       "10       VPR_EVENT_DETAILS           TEXT\n",
       "11                 VPR_DST           TEXT\n",
       "12                  VPR_IP           TEXT\n",
       "13          VPR_SESSION_ID           TEXT\n",
       "14     VPR_LOCAL_TIMESTAMP  TIMESTAMP_NTZ\n",
       "15          VPR_USER_AGENT           TEXT\n",
       "16  VPR_TEALIUM_VISITOR_ID           TEXT\n",
       "17  VPR_TEALIUM_SESSION_ID           TEXT\n",
       "18        VPR_SUBTITLES_ON        BOOLEAN\n",
       "19         VPR_AUDIO_TRACK           TEXT\n",
       "20      VPR_SUBTITLE_TRACK        BOOLEAN\n",
       "21      VPR_PLAYER_VISIBLE           TEXT\n",
       "22           TBC_SRC_STAGE           TEXT\n",
       "23            TBC_SRC_PATH           TEXT\n",
       "24             TBC_LOAD_TS  TIMESTAMP_NTZ"
      ]
     },
     "execution_count": 20,
     "metadata": {},
     "output_type": "execute_result"
    }
   ],
   "source": [
    "tbl_b.get_column_names_with_type()"
   ]
  },
  {
   "cell_type": "code",
   "execution_count": null,
   "metadata": {},
   "outputs": [],
   "source": []
  }
 ],
 "metadata": {
  "kernelspec": {
   "display_name": "Python 3",
   "language": "python",
   "name": "python3"
  },
  "language_info": {
   "codemirror_mode": {
    "name": "ipython",
    "version": 3
   },
   "file_extension": ".py",
   "mimetype": "text/x-python",
   "name": "python",
   "nbconvert_exporter": "python",
   "pygments_lexer": "ipython3",
   "version": "3.8.8"
  }
 },
 "nbformat": 4,
 "nbformat_minor": 4
}
